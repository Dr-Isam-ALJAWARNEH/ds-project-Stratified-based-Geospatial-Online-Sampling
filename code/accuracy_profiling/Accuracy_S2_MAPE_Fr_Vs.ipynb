{
 "cells": [
  {
   "cell_type": "code",
   "execution_count": 1,
   "metadata": {},
   "outputs": [],
   "source": [
    "try:\n",
    "    from google.colab import drive\n",
    "except ModuleNotFoundError:\n",
    "    IN_COLAB = False\n",
    "else:\n",
    "    drive.mount('/content/drive')\n",
    "    IN_COLAB = True"
   ]
  },
  {
   "cell_type": "code",
   "execution_count": 2,
   "metadata": {},
   "outputs": [],
   "source": [
    "if IN_COLAB:\n",
    "    REF_PATH = \"/content/drive/MyDrive/Project/\"\n",
    "else:\n",
    "    REF_PATH = \"../../data/\"\n",
    "REF_PATH += \"Average pm25 per neighborhood BASELINE.csv\""
   ]
  },
  {
   "cell_type": "code",
   "execution_count": 3,
   "metadata": {},
   "outputs": [],
   "source": [
    "TRIPS_PATH = 'https://raw.githubusercontent.com/IsamAljawarneh/datasets/1c2a6af7dea7aa93105ac1d1d0118d07bd681d8a/data/NYC_Pilot2_PM_Part1.csv'\n",
    "POLYGON_PATH = 'https://raw.githubusercontent.com/IsamAljawarneh/datasets/1c2a6af7dea7aa93105ac1d1d0118d07bd681d8a/data/nyc_polygon.geojson'"
   ]
  },
  {
   "cell_type": "code",
   "execution_count": 4,
   "metadata": {},
   "outputs": [],
   "source": [
    "import pandas as pd\n",
    "import folium\n",
    "import geopandas as gpd\n",
    "from datetime import datetime\n",
    "import numpy as np\n",
    "from shapely.geometry import Polygon\n",
    "import math\n",
    "import matplotlib.pyplot as plt\n",
    "from shapely import wkt\n",
    "\n",
    "from s2 import s2"
   ]
  },
  {
   "cell_type": "code",
   "execution_count": 5,
   "metadata": {},
   "outputs": [],
   "source": [
    "s2_resolution = 14"
   ]
  },
  {
   "cell_type": "code",
   "execution_count": 6,
   "metadata": {},
   "outputs": [],
   "source": [
    "trips = pd.read_csv(TRIPS_PATH)\n",
    "# Filter trips with corresponding neighborhoods in NYC\n",
    "trips = gpd.sjoin(\n",
    "    gpd.GeoDataFrame(trips, geometry=gpd.points_from_xy(trips.longitude, trips.latitude), crs='epsg:4326'),\n",
    "    gpd.read_file(POLYGON_PATH)\n",
    ")[list(trips.columns) + [\"neighborhood\"]]"
   ]
  },
  {
   "cell_type": "code",
   "execution_count": 7,
   "metadata": {},
   "outputs": [],
   "source": [
    "trips['s2'] = trips.apply(lambda x: s2.geo_to_s2(x.latitude, x.longitude, s2_resolution), axis = 1)"
   ]
  },
  {
   "cell_type": "code",
   "execution_count": 8,
   "metadata": {},
   "outputs": [
    {
     "name": "stdout",
     "output_type": "stream",
     "text": [
      "48\n",
      "48\n"
     ]
    }
   ],
   "source": [
    "reference_value = pd.read_csv(REF_PATH)\n",
    "reference_value['geometry'] = reference_value['geometry'].apply(wkt.loads)\n",
    "reference_value = gpd.GeoDataFrame(reference_value, crs='epsg:4326')\n",
    "print(reference_value['neighborhood'].nunique())\n",
    "print(len(reference_value['neighborhood']))"
   ]
  },
  {
   "cell_type": "code",
   "execution_count": 9,
   "metadata": {},
   "outputs": [],
   "source": [
    "def calculate_mape(predicted_values, actual_values):\n",
    "    # Calculate absolute differences\n",
    "    absolute_diff = np.abs(actual_values - predicted_values)\n",
    "    \n",
    "    # Calculate percentage error\n",
    "    percentage_error = absolute_diff / actual_values\n",
    "    \n",
    "    # Handle cases where actual values are 0 to avoid division by zero\n",
    "    percentage_error = np.nan_to_num(percentage_error, nan=0, posinf=0)\n",
    "    \n",
    "    # Calculate mean percentage error\n",
    "    mean_percentage_error = np.mean(percentage_error)\n",
    "    \n",
    "    # Convert mean percentage error to percentage\n",
    "    mape = mean_percentage_error * 100\n",
    "    \n",
    "    return mape"
   ]
  },
  {
   "cell_type": "code",
   "execution_count": 10,
   "metadata": {},
   "outputs": [],
   "source": [
    "def get_mape_s2(baseline, encoded):\n",
    "    error = []\n",
    "    for sampling_frequency in np.arange(0.1,1.1,0.1):\n",
    "        sampled_trips = encoded.groupby('s2').apply(lambda x: x.sample(frac = sampling_frequency)).reset_index(drop=True) #Stratified Sampling\n",
    "        df_enc_pm25 = (sampled_trips\n",
    "                          .groupby('s2')\n",
    "                          .pm25\n",
    "                          .agg(list)\n",
    "                          .to_frame(\"pm25_list\")\n",
    "                          .reset_index())  # Make a list of pm25 values for each s2 cell\n",
    "        df_enc_pm25['average_pm25_value'] = df_enc_pm25['pm25_list'].apply(lambda x:sum(x)/len(x)) #Find the average pm25 value for each s2 cell\n",
    "        df_enc_pm25.drop('pm25_list', axis = 1, inplace=True)\n",
    "        sampled_trips_with_neighborhood_pm25 = pd.merge(sampled_trips, baseline, on='neighborhood', how='inner')\n",
    "        sampled_trips_with_enc_geometry_pm25 = pd.merge(sampled_trips, df_enc_pm25, on='s2', how='inner')\n",
    "        assert sampled_trips_with_neighborhood_pm25.shape[0] == sampled_trips_with_enc_geometry_pm25.shape[0]\n",
    "        columns = list(sampled_trips.columns)\n",
    "        sampled_trips_with_neighborhood_pm25.sort_values(by=columns, inplace=True)\n",
    "        sampled_trips_with_neighborhood_pm25.reset_index(drop=True, inplace=True)\n",
    "        sampled_trips_with_enc_geometry_pm25.sort_values(by=columns, inplace=True)\n",
    "        sampled_trips_with_enc_geometry_pm25.reset_index(drop=True, inplace=True)\n",
    "        baseline_pm25 = sampled_trips_with_neighborhood_pm25[\"average_pm25_value\"].values\n",
    "        sampled_pm25  = sampled_trips_with_enc_geometry_pm25[\"average_pm25_value\"].values\n",
    "        mape = calculate_mape(sampled_pm25, baseline_pm25)\n",
    "        error.append(mape)\n",
    "    return error"
   ]
  },
  {
   "cell_type": "code",
   "execution_count": 11,
   "metadata": {},
   "outputs": [],
   "source": [
    "MAPE_S2 = get_mape_s2(reference_value,trips)"
   ]
  },
  {
   "cell_type": "code",
   "execution_count": 12,
   "metadata": {},
   "outputs": [
    {
     "data": {
      "text/plain": [
       "[4.456552267644581,\n",
       " 4.634421469182792,\n",
       " 4.243068374107449,\n",
       " 4.0837487256561,\n",
       " 4.106948134293311,\n",
       " 4.005782911226043,\n",
       " 4.076589266554639,\n",
       " 4.060408708304784,\n",
       " 4.083644420506749,\n",
       " 4.0588575696242595]"
      ]
     },
     "execution_count": 12,
     "metadata": {},
     "output_type": "execute_result"
    }
   ],
   "source": [
    "MAPE_S2"
   ]
  },
  {
   "cell_type": "code",
   "execution_count": 13,
   "metadata": {},
   "outputs": [
    {
     "data": {
      "text/plain": [
       "<Figure size 640x480 with 0 Axes>"
      ]
     },
     "metadata": {},
     "output_type": "display_data"
    },
    {
     "data": {
      "image/png": "[encoded data removed]",
      "text/plain": [
       "<Figure size 640x480 with 1 Axes>"
      ]
     },
     "metadata": {},
     "output_type": "display_data"
    }
   ],
   "source": [
    "S2_Performance = pd.DataFrame({'Sample Size':[0.1,0.2,0.3,0.4,0.5,0.6,0.7,0.8,0.9,1.0],\n",
    "                               'MAPE': MAPE_S2})\n",
    "plt.figure()\n",
    "ax = S2_Performance.plot(kind='bar', x='Sample Size', y= 'MAPE')\n",
    "ax.bar_label(ax.containers[0], color = 'black')\n",
    "plt.show()"
   ]
  }
 ],
 "metadata": {
  "kernelspec": {
   "display_name": "Python 3",
   "language": "python",
   "name": "python3"
  },
  "language_info": {
   "codemirror_mode": {
    "name": "ipython",
    "version": 3
   },
   "file_extension": ".py",
   "mimetype": "text/x-python",
   "name": "python",
   "nbconvert_exporter": "python",
   "pygments_lexer": "ipython3",
   "version": "3.9.13"
  }
 },
 "nbformat": 4,
 "nbformat_minor": 2
}
