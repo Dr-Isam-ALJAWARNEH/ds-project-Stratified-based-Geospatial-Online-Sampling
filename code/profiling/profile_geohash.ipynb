{
 "cells": [
  {
   "cell_type": "code",
   "execution_count": 3,
   "metadata": {},
   "outputs": [],
   "source": [
    "import pandas as pd\n",
    "import pygeohash as gh\n",
    "from timeit import repeat as timeit_repeat\n",
    "from numpy import arange as np_arange"
   ]
  },
  {
   "cell_type": "code",
   "execution_count": 4,
   "metadata": {},
   "outputs": [],
   "source": [
    "geohash_precision = 6"
   ]
  },
  {
   "cell_type": "code",
   "execution_count": 5,
   "metadata": {},
   "outputs": [],
   "source": [
    "TRIPS_PATH = \"../../data/NYC_Pilot2_PM_Part1.csv\""
   ]
  },
  {
   "cell_type": "code",
   "execution_count": 6,
   "metadata": {},
   "outputs": [],
   "source": [
    "def group_by_geohash(df):\n",
    "    df['geohash'] = df.apply(lambda x: gh.encode(x.latitude, x.longitude, precision=geohash_precision), axis=1)\n",
    "    return df.groupby('geohash')"
   ]
  },
  {
   "cell_type": "code",
   "execution_count": 7,
   "metadata": {},
   "outputs": [],
   "source": [
    "trips = pd.read_csv(TRIPS_PATH)\n",
    "trips = trips[\n",
    "    (trips['latitude']  != 0) &\n",
    "    (trips['longitude'] != 0)\n",
    "]"
   ]
  },
  {
   "cell_type": "code",
   "execution_count": 9,
   "metadata": {},
   "outputs": [
    {
     "name": "stdout",
     "output_type": "stream",
     "text": [
      "Best of 5 runs for sampling fraction 0.1: 0.4239414995536208\n",
      "Best of 5 runs for sampling fraction 0.2: 0.8740012999624014\n",
      "Best of 5 runs for sampling fraction 0.3: 1.2761177998036146\n",
      "Best of 5 runs for sampling fraction 0.4: 1.7552982000634074\n",
      "Best of 5 runs for sampling fraction 0.5: 2.078783600125462\n",
      "Best of 5 runs for sampling fraction 0.6: 2.489771000109613\n",
      "Best of 5 runs for sampling fraction 0.7: 3.0897793998010457\n",
      "Best of 5 runs for sampling fraction 0.8: 3.677657399792224\n",
      "Best of 5 runs for sampling fraction 0.9: 3.6898659002035856\n",
      "Best of 5 runs for sampling fraction 1.0: 4.030581200029701\n"
     ]
    }
   ],
   "source": [
    "for sampling_fraction in np_arange(0.1, 1.1, 0.1):\n",
    "    sampled_trips = trips.sample(frac=sampling_fraction)\n",
    "    print(\"Best of 5 runs for sampling fraction %.1f:\" % sampling_fraction, min(timeit_repeat(\n",
    "        \"group_by_geohash(sampled_trips)\",\n",
    "        setup=\"from __main__ import group_by_geohash, sampled_trips\",\n",
    "        repeat=5, number=1\n",
    "    )))"
   ]
  }
 ],
 "metadata": {
  "kernelspec": {
   "display_name": "Python 3",
   "language": "python",
   "name": "python3"
  },
  "language_info": {
   "codemirror_mode": {
    "name": "ipython",
    "version": 3
   },
   "file_extension": ".py",
   "mimetype": "text/x-python",
   "name": "python",
   "nbconvert_exporter": "python",
   "pygments_lexer": "ipython3",
   "version": "3.10.11"
  }
 },
 "nbformat": 4,
 "nbformat_minor": 2
}
