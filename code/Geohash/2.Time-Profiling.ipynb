{
 "cells": [
  {
   "cell_type": "code",
   "execution_count": 4,
   "metadata": {},
   "outputs": [],
   "source": [
    "import pandas as pd\n",
    "import pygeohash as gh\n",
    "from timeit import repeat as timeit_repeat\n",
    "from numpy import arange as np_arange"
   ]
  },
  {
   "cell_type": "markdown",
   "metadata": {},
   "source": [
    "# Fixed Precision and Variable Size"
   ]
  },
  {
   "cell_type": "code",
   "execution_count": 2,
   "metadata": {},
   "outputs": [],
   "source": [
    "geohash_precision = 6"
   ]
  },
  {
   "cell_type": "code",
   "execution_count": 3,
   "metadata": {},
   "outputs": [],
   "source": [
    "TRIPS_PATH = 'https://raw.githubusercontent.com/IsamAljawarneh/datasets/1c2a6af7dea7aa93105ac1d1d0118d07bd681d8a/data/NYC_Pilot2_PM_Part1.csv'"
   ]
  },
  {
   "cell_type": "code",
   "execution_count": 4,
   "metadata": {},
   "outputs": [],
   "source": [
    "trips = pd.read_csv(TRIPS_PATH)\n",
    "trips = trips[\n",
    "    (trips['latitude']  != 0) &\n",
    "    (trips['longitude'] != 0)\n",
    "]"
   ]
  },
  {
   "cell_type": "code",
   "execution_count": 5,
   "metadata": {},
   "outputs": [],
   "source": [
    "def group_by_geohash(df):\n",
    "    df['geohash'] = df.apply(lambda x: gh.encode(x.latitude, x.longitude, precision=geohash_precision), axis=1)\n",
    "    return df.groupby('geohash')"
   ]
  },
  {
   "cell_type": "code",
   "execution_count": 6,
   "metadata": {},
   "outputs": [
    {
     "name": "stdout",
     "output_type": "stream",
     "text": [
      "Best of 5 runs for sampling fraction 0.1: 0.2912659998983145\n",
      "Best of 5 runs for sampling fraction 0.2: 0.5848819999955595\n",
      "Best of 5 runs for sampling fraction 0.3: 0.8867297999095172\n",
      "Best of 5 runs for sampling fraction 0.4: 1.157296200050041\n",
      "Best of 5 runs for sampling fraction 0.5: 1.4812487000599504\n",
      "Best of 5 runs for sampling fraction 0.6: 1.77607770008035\n",
      "Best of 5 runs for sampling fraction 0.7: 2.1001027999445796\n",
      "Best of 5 runs for sampling fraction 0.8: 2.3513195000123233\n",
      "Best of 5 runs for sampling fraction 0.9: 2.671902900096029\n",
      "Best of 5 runs for sampling fraction 1.0: 2.971954599954188\n"
     ]
    }
   ],
   "source": [
    "for sampling_fraction in np_arange(0.1, 1.1, 0.1):\n",
    "    sampled_trips = trips.sample(frac=sampling_fraction)\n",
    "    print(\"Best of 5 runs for sampling fraction %.1f:\" % sampling_fraction, min(timeit_repeat(\n",
    "        \"group_by_geohash(sampled_trips)\",\n",
    "        setup=\"from __main__ import group_by_geohash, sampled_trips\",\n",
    "        repeat=5, number=1\n",
    "    )))"
   ]
  },
  {
   "cell_type": "markdown",
   "metadata": {},
   "source": [
    "# Fixed Size and Variable Precision"
   ]
  },
  {
   "cell_type": "code",
   "execution_count": 1,
   "metadata": {},
   "outputs": [],
   "source": [
    "geohash_precision_min = 1\n",
    "geohash_precision_max = 12"
   ]
  },
  {
   "cell_type": "code",
   "execution_count": 2,
   "metadata": {},
   "outputs": [],
   "source": [
    "TRIPS_PATH = 'https://raw.githubusercontent.com/IsamAljawarneh/datasets/1c2a6af7dea7aa93105ac1d1d0118d07bd681d8a/data/NYC_Pilot2_PM_Part1.csv'"
   ]
  },
  {
   "cell_type": "code",
   "execution_count": 5,
   "metadata": {},
   "outputs": [],
   "source": [
    "trips = pd.read_csv(TRIPS_PATH)\n",
    "trips = trips[\n",
    "    (trips['latitude']  != 0) &\n",
    "    (trips['longitude'] != 0)\n",
    "]"
   ]
  },
  {
   "cell_type": "code",
   "execution_count": 6,
   "metadata": {},
   "outputs": [],
   "source": [
    "def group_by_geohash(df, geohash_precision):\n",
    "    df['geohash'] = df.apply(lambda x: gh.encode(x.latitude, x.longitude, precision=geohash_precision), axis=1)\n",
    "    return df.groupby('geohash')"
   ]
  },
  {
   "cell_type": "code",
   "execution_count": 7,
   "metadata": {},
   "outputs": [],
   "source": [
    "sampling_fraction = 0.6\n",
    "sampled_trips = trips.sample(frac=sampling_fraction)"
   ]
  },
  {
   "cell_type": "code",
   "execution_count": 8,
   "metadata": {},
   "outputs": [
    {
     "name": "stdout",
     "output_type": "stream",
     "text": [
      "Best of 5 runs for geohash precision 1: 1.579706999938935\n",
      "Best of 5 runs for geohash precision 2: 1.7120567001402378\n",
      "Best of 5 runs for geohash precision 3: 1.888386000180617\n",
      "Best of 5 runs for geohash precision 4: 2.0667079999111593\n",
      "Best of 5 runs for geohash precision 5: 2.2765174000523984\n",
      "Best of 5 runs for geohash precision 6: 2.4109483000356704\n",
      "Best of 5 runs for geohash precision 7: 2.5924301999621093\n",
      "Best of 5 runs for geohash precision 8: 2.736659799935296\n",
      "Best of 5 runs for geohash precision 9: 3.0090966001152992\n",
      "Best of 5 runs for geohash precision 10: 3.1548470000270754\n",
      "Best of 5 runs for geohash precision 11: 3.3021887000650167\n",
      "Best of 5 runs for geohash precision 12: 3.4186964000109583\n"
     ]
    }
   ],
   "source": [
    "for geohash_precision in np_arange(geohash_precision_min, geohash_precision_max + 1):\n",
    "    print(\"Best of 5 runs for geohash precision %d:\" % geohash_precision, min(timeit_repeat(\n",
    "        \"group_by_geohash(sampled_trips, geohash_precision)\",\n",
    "        setup=\"from __main__ import group_by_geohash, sampled_trips, geohash_precision\",\n",
    "        repeat=5, number=1\n",
    "    )))"
   ]
  }
 ],
 "metadata": {
  "kernelspec": {
   "display_name": "Python 3",
   "language": "python",
   "name": "python3"
  },
  "language_info": {
   "codemirror_mode": {
    "name": "ipython",
    "version": 3
   },
   "file_extension": ".py",
   "mimetype": "text/x-python",
   "name": "python",
   "nbconvert_exporter": "python",
   "pygments_lexer": "ipython3",
   "version": "3.11.5"
  }
 },
 "nbformat": 4,
 "nbformat_minor": 2
}
