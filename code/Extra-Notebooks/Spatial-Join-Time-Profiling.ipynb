{
 "cells": [
  {
   "cell_type": "code",
   "execution_count": 1,
   "metadata": {},
   "outputs": [],
   "source": [
    "import pandas as pd\n",
    "import geopandas as gpd\n",
    "from timeit import repeat as timeit_repeat\n",
    "from numpy import arange as np_arange"
   ]
  },
  {
   "cell_type": "code",
   "execution_count": 2,
   "metadata": {},
   "outputs": [],
   "source": [
    "geohash_precision = 6"
   ]
  },
  {
   "cell_type": "code",
   "execution_count": 3,
   "metadata": {},
   "outputs": [],
   "source": [
    "TRIPS_PATH = 'https://raw.githubusercontent.com/IsamAljawarneh/datasets/1c2a6af7dea7aa93105ac1d1d0118d07bd681d8a/data/NYC_Pilot2_PM_Part1.csv'\n",
    "POLYGON_PATH = 'https://raw.githubusercontent.com/IsamAljawarneh/datasets/1c2a6af7dea7aa93105ac1d1d0118d07bd681d8a/data/nyc_polygon.geojson'"
   ]
  },
  {
   "cell_type": "code",
   "execution_count": 4,
   "metadata": {},
   "outputs": [],
   "source": [
    "trips = pd.read_csv(TRIPS_PATH)\n",
    "trips = trips[\n",
    "    (trips['latitude']  != 0) &\n",
    "    (trips['longitude'] != 0)\n",
    "]"
   ]
  },
  {
   "cell_type": "code",
   "execution_count": 5,
   "metadata": {},
   "outputs": [],
   "source": [
    "neighborhoods_original = gpd.read_file(POLYGON_PATH)\n",
    "def group_by_sjoin(df):\n",
    "    sjoined_trips_original = gpd.sjoin(df, neighborhoods_original, predicate=\"within\")\n",
    "    return sjoined_trips_original"
   ]
  },
  {
   "cell_type": "code",
   "execution_count": 6,
   "metadata": {},
   "outputs": [
    {
     "name": "stdout",
     "output_type": "stream",
     "text": [
      "Best of 5 runs for sampling fraction 0.1: 0.04740239982493222\n",
      "Best of 5 runs for sampling fraction 0.2: 0.12092790007591248\n",
      "Best of 5 runs for sampling fraction 0.3: 0.16723629995249212\n",
      "Best of 5 runs for sampling fraction 0.4: 0.2576520999427885\n",
      "Best of 5 runs for sampling fraction 0.5: 0.2895650998689234\n",
      "Best of 5 runs for sampling fraction 0.6: 0.3510345001704991\n",
      "Best of 5 runs for sampling fraction 0.7: 0.4008855998981744\n",
      "Best of 5 runs for sampling fraction 0.8: 0.46813639998435974\n",
      "Best of 5 runs for sampling fraction 0.9: 0.5154222999699414\n",
      "Best of 5 runs for sampling fraction 1.0: 0.5864599999040365\n"
     ]
    }
   ],
   "source": [
    "for sampling_fraction in np_arange(0.1, 1.1, 0.1):\n",
    "    gdf_trips = gpd.GeoDataFrame(trips, geometry=gpd.points_from_xy(trips.longitude, trips.latitude))\n",
    "    gdf_trips.set_crs('epsg:4326', inplace=True)\n",
    "    sampled_trips = gdf_trips.sample(frac=sampling_fraction)\n",
    "    print(\"Best of 5 runs for sampling fraction %.1f:\" % sampling_fraction, min(timeit_repeat(\n",
    "        \"group_by_sjoin(sampled_trips)\",\n",
    "        setup=\"from __main__ import group_by_sjoin, sampled_trips\",\n",
    "        repeat=5, number=1\n",
    "    )))"
   ]
  }
 ],
 "metadata": {
  "kernelspec": {
   "display_name": "Python 3",
   "language": "python",
   "name": "python3"
  },
  "language_info": {
   "codemirror_mode": {
    "name": "ipython",
    "version": 3
   },
   "file_extension": ".py",
   "mimetype": "text/x-python",
   "name": "python",
   "nbconvert_exporter": "python",
   "pygments_lexer": "ipython3",
   "version": "3.11.5"
  }
 },
 "nbformat": 4,
 "nbformat_minor": 2
}
