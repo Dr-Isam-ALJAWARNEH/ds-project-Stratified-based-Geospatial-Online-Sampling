{
 "cells": [
  {
   "cell_type": "code",
   "execution_count": 1,
   "metadata": {},
   "outputs": [
    {
     "name": "stderr",
     "output_type": "stream",
     "text": [
      "C:\\Users\\mohan\\AppData\\Local\\Temp\\ipykernel_22320\\549825037.py:1: DeprecationWarning: \n",
      "Pyarrow will become a required dependency of pandas in the next major release of pandas (pandas 3.0),\n",
      "(to allow more performant data types, such as the Arrow string type, and better interoperability with other libraries)\n",
      "but was not found to be installed on your system.\n",
      "If this would cause problems for you,\n",
      "please provide us feedback at https://github.com/pandas-dev/pandas/issues/54466\n",
      "        \n",
      "  import pandas as pd\n"
     ]
    }
   ],
   "source": [
    "import pandas as pd\n",
    "import geopandas as gpd\n",
    "from timeit import repeat as timeit_repeat\n",
    "from numpy import arange as np_arange"
   ]
  },
  {
   "cell_type": "code",
   "execution_count": 2,
   "metadata": {},
   "outputs": [],
   "source": [
    "geohash_precision = 6"
   ]
  },
  {
   "cell_type": "code",
   "execution_count": 5,
   "metadata": {},
   "outputs": [],
   "source": [
    "TRIPS_PATH = 'https://raw.githubusercontent.com/IsamAljawarneh/datasets/1c2a6af7dea7aa93105ac1d1d0118d07bd681d8a/data/NYC_Pilot2_PM_Part1.csv'\n",
    "POLYGON_PATH = 'https://raw.githubusercontent.com/IsamAljawarneh/datasets/1c2a6af7dea7aa93105ac1d1d0118d07bd681d8a/data/nyc_polygon.geojson'"
   ]
  },
  {
   "cell_type": "code",
   "execution_count": 6,
   "metadata": {},
   "outputs": [],
   "source": [
    "trips = pd.read_csv(TRIPS_PATH)\n",
    "trips = trips[\n",
    "    (trips['latitude']  != 0) &\n",
    "    (trips['longitude'] != 0)\n",
    "]"
   ]
  },
  {
   "cell_type": "code",
   "execution_count": 7,
   "metadata": {},
   "outputs": [],
   "source": [
    "neighborhoods_original = gpd.read_file(POLYGON_PATH)\n",
    "def group_by_sjoin(df):\n",
    "    sjoined_trips_original = gpd.sjoin(df, neighborhoods_original, predicate=\"within\")\n",
    "    return sjoined_trips_original"
   ]
  },
  {
   "cell_type": "code",
   "execution_count": 11,
   "metadata": {},
   "outputs": [
    {
     "name": "stdout",
     "output_type": "stream",
     "text": [
      "Best of 5 runs for sampling fraction 0.1: 0.031767199994646944\n",
      "Best of 5 runs for sampling fraction 0.2: 0.06452639999770327\n",
      "Best of 5 runs for sampling fraction 0.3: 0.09767390000342857\n",
      "Best of 5 runs for sampling fraction 0.4: 0.12907709999853978\n",
      "Best of 5 runs for sampling fraction 0.5: 0.15965870000218274\n",
      "Best of 5 runs for sampling fraction 0.6: 0.1961029999947641\n",
      "Best of 5 runs for sampling fraction 0.7: 0.22287909999431577\n",
      "Best of 5 runs for sampling fraction 0.8: 0.2599684000015259\n",
      "Best of 5 runs for sampling fraction 0.9: 0.28554369999619666\n",
      "Best of 5 runs for sampling fraction 1.0: 0.30459890000201995\n"
     ]
    }
   ],
   "source": [
    "for sampling_fraction in np_arange(0.1, 1.1, 0.1):\n",
    "    gdf_trips = gpd.GeoDataFrame(trips, geometry=gpd.points_from_xy(trips.longitude, trips.latitude))\n",
    "    gdf_trips.set_crs('epsg:4326', inplace=True)\n",
    "    sampled_trips = gdf_trips.sample(frac=sampling_fraction)\n",
    "    print(\"Best of 5 runs for sampling fraction %.1f:\" % sampling_fraction, min(timeit_repeat(\n",
    "        \"group_by_sjoin(sampled_trips)\",\n",
    "        setup=\"from __main__ import group_by_sjoin, sampled_trips\",\n",
    "        repeat=5, number=1\n",
    "    )))"
   ]
  }
 ],
 "metadata": {
  "kernelspec": {
   "display_name": "Python 3",
   "language": "python",
   "name": "python3"
  },
  "language_info": {
   "codemirror_mode": {
    "name": "ipython",
    "version": 3
   },
   "file_extension": ".py",
   "mimetype": "text/x-python",
   "name": "python",
   "nbconvert_exporter": "python",
   "pygments_lexer": "ipython3",
   "version": "3.10.11"
  }
 },
 "nbformat": 4,
 "nbformat_minor": 2
}
