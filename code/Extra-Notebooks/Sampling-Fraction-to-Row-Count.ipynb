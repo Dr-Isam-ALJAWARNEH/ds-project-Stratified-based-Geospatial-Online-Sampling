{
 "cells": [
  {
   "cell_type": "code",
   "execution_count": 1,
   "metadata": {},
   "outputs": [],
   "source": [
    "import pandas as pd\n",
    "from numpy import arange as np_arange"
   ]
  },
  {
   "cell_type": "code",
   "execution_count": 3,
   "metadata": {},
   "outputs": [
    {
     "name": "stdout",
     "output_type": "stream",
     "text": [
      "Number of rows for sampling fraction 0.1: 17000 / 169999\n",
      "Number of rows for sampling fraction 0.2: 34000 / 169999\n",
      "Number of rows for sampling fraction 0.3: 51000 / 169999\n",
      "Number of rows for sampling fraction 0.4: 68000 / 169999\n",
      "Number of rows for sampling fraction 0.5: 85000 / 169999\n",
      "Number of rows for sampling fraction 0.6: 101999 / 169999\n",
      "Number of rows for sampling fraction 0.7: 118999 / 169999\n",
      "Number of rows for sampling fraction 0.8: 135999 / 169999\n",
      "Number of rows for sampling fraction 0.9: 152999 / 169999\n",
      "Number of rows for sampling fraction 1.0: 169999 / 169999\n"
     ]
    }
   ],
   "source": [
    "TRIPS_PATH = 'https://raw.githubusercontent.com/IsamAljawarneh/datasets/1c2a6af7dea7aa93105ac1d1d0118d07bd681d8a/data/NYC_Pilot2_PM_Part1.csv'\n",
    "\n",
    "trips = pd.read_csv(TRIPS_PATH)\n",
    "trips = trips[\n",
    "    (trips['latitude']  != 0) &\n",
    "    (trips['longitude'] != 0)\n",
    "]\n",
    "\n",
    "for sampling_fraction in np_arange(0.1, 1.1, 0.1):\n",
    "    sampled_trips = trips.sample(frac=sampling_fraction)\n",
    "    print(\"Number of rows for sampling fraction %.1f: %d / %d\" % (sampling_fraction, sampled_trips.shape[0], trips.shape[0]))"
   ]
  }
 ],
 "metadata": {
  "kernelspec": {
   "display_name": "Python 3",
   "language": "python",
   "name": "python3"
  },
  "language_info": {
   "codemirror_mode": {
    "name": "ipython",
    "version": 3
   },
   "file_extension": ".py",
   "mimetype": "text/x-python",
   "name": "python",
   "nbconvert_exporter": "python",
   "pygments_lexer": "ipython3",
   "version": "3.11.5"
  }
 },
 "nbformat": 4,
 "nbformat_minor": 2
}
