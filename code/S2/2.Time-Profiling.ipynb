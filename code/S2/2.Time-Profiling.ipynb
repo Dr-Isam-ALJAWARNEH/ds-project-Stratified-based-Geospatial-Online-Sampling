{
 "cells": [
  {
   "cell_type": "code",
   "execution_count": 6,
   "metadata": {},
   "outputs": [],
   "source": [
    "import pandas as pd\n",
    "from s2 import s2\n",
    "from timeit import repeat as timeit_repeat\n",
    "from numpy import arange as np_arange"
   ]
  },
  {
   "cell_type": "markdown",
   "metadata": {},
   "source": [
    "# Fixed Resolution and Variable Sample Size"
   ]
  },
  {
   "cell_type": "code",
   "execution_count": 2,
   "metadata": {},
   "outputs": [],
   "source": [
    "s2_resolution = 14"
   ]
  },
  {
   "cell_type": "code",
   "execution_count": 3,
   "metadata": {},
   "outputs": [],
   "source": [
    "TRIPS_PATH = 'https://raw.githubusercontent.com/IsamAljawarneh/datasets/1c2a6af7dea7aa93105ac1d1d0118d07bd681d8a/data/NYC_Pilot2_PM_Part1.csv'"
   ]
  },
  {
   "cell_type": "code",
   "execution_count": 4,
   "metadata": {},
   "outputs": [],
   "source": [
    "trips = pd.read_csv(TRIPS_PATH)\n",
    "trips = trips[\n",
    "    (trips['latitude']  != 0) &\n",
    "    (trips['longitude'] != 0)\n",
    "]"
   ]
  },
  {
   "cell_type": "code",
   "execution_count": 5,
   "metadata": {},
   "outputs": [],
   "source": [
    "def group_by_s2(df):\n",
    "    df['s2'] = df.apply(lambda x: s2.geo_to_s2(x.latitude, x.longitude, s2_resolution), axis=1)\n",
    "    return df.groupby('s2')"
   ]
  },
  {
   "cell_type": "code",
   "execution_count": 6,
   "metadata": {},
   "outputs": [
    {
     "name": "stdout",
     "output_type": "stream",
     "text": [
      "Best of 5 runs for sampling fraction 0.1: 0.39333940000000034\n",
      "Best of 5 runs for sampling fraction 0.2: 0.7920401000000012\n",
      "Best of 5 runs for sampling fraction 0.3: 1.1719258000000004\n",
      "Best of 5 runs for sampling fraction 0.4: 1.5676227000000011\n",
      "Best of 5 runs for sampling fraction 0.5: 1.965718299999999\n",
      "Best of 5 runs for sampling fraction 0.6: 2.3710004\n",
      "Best of 5 runs for sampling fraction 0.7: 2.780898399999998\n",
      "Best of 5 runs for sampling fraction 0.8: 3.1408685000000105\n",
      "Best of 5 runs for sampling fraction 0.9: 3.5363192000000083\n",
      "Best of 5 runs for sampling fraction 1.0: 3.9809781999999956\n"
     ]
    }
   ],
   "source": [
    "for sampling_fraction in np_arange(0.1, 1.1, 0.1):\n",
    "    sampled_trips = trips.sample(frac=sampling_fraction)\n",
    "    print(\"Best of 5 runs for sampling fraction %.1f:\" % sampling_fraction, min(timeit_repeat(\n",
    "        \"group_by_s2(sampled_trips)\",\n",
    "        setup=\"from __main__ import group_by_s2, sampled_trips\",\n",
    "        repeat=5, number=1\n",
    "    )))"
   ]
  },
  {
   "cell_type": "markdown",
   "metadata": {},
   "source": [
    "# Fixed Sample Size and Variable Resolution"
   ]
  },
  {
   "cell_type": "code",
   "execution_count": 1,
   "metadata": {},
   "outputs": [],
   "source": [
    "s2_resolution_min = 0\n",
    "s2_resolution_max = 30"
   ]
  },
  {
   "cell_type": "code",
   "execution_count": 4,
   "metadata": {},
   "outputs": [],
   "source": [
    "TRIPS_PATH = 'https://raw.githubusercontent.com/IsamAljawarneh/datasets/1c2a6af7dea7aa93105ac1d1d0118d07bd681d8a/data/NYC_Pilot2_PM_Part1.csv'"
   ]
  },
  {
   "cell_type": "code",
   "execution_count": 7,
   "metadata": {},
   "outputs": [],
   "source": [
    "trips = pd.read_csv(TRIPS_PATH)\n",
    "trips = trips[\n",
    "    (trips['latitude']  != 0) &\n",
    "    (trips['longitude'] != 0)\n",
    "]"
   ]
  },
  {
   "cell_type": "code",
   "execution_count": 8,
   "metadata": {},
   "outputs": [],
   "source": [
    "def group_by_s2(df):\n",
    "    df['s2'] = df.apply(lambda x: s2.geo_to_s2(x.latitude, x.longitude, s2_resolution), axis=1)\n",
    "    return df.groupby('s2')"
   ]
  },
  {
   "cell_type": "code",
   "execution_count": 9,
   "metadata": {},
   "outputs": [],
   "source": [
    "sampling_fraction = 0.6\n",
    "sampled_trips = trips.sample(frac=sampling_fraction)"
   ]
  },
  {
   "cell_type": "code",
   "execution_count": 10,
   "metadata": {},
   "outputs": [
    {
     "name": "stdout",
     "output_type": "stream",
     "text": [
      "Best of 5 runs for s2 resolution 0: 3.7777863999363035\n",
      "Best of 5 runs for s2 resolution 1: 3.7273387000896037\n",
      "Best of 5 runs for s2 resolution 2: 3.748213700018823\n",
      "Best of 5 runs for s2 resolution 3: 3.752453599823639\n",
      "Best of 5 runs for s2 resolution 4: 3.739897499792278\n",
      "Best of 5 runs for s2 resolution 5: 3.718327600043267\n",
      "Best of 5 runs for s2 resolution 6: 3.755277000134811\n",
      "Best of 5 runs for s2 resolution 7: 3.752497499808669\n",
      "Best of 5 runs for s2 resolution 8: 3.7401654000859708\n",
      "Best of 5 runs for s2 resolution 9: 3.7474414000753313\n",
      "Best of 5 runs for s2 resolution 10: 3.710450500017032\n",
      "Best of 5 runs for s2 resolution 11: 3.735961399972439\n",
      "Best of 5 runs for s2 resolution 12: 3.766419199993834\n",
      "Best of 5 runs for s2 resolution 13: 3.70429449994117\n",
      "Best of 5 runs for s2 resolution 14: 3.7508956999517977\n",
      "Best of 5 runs for s2 resolution 15: 3.7018271998967975\n",
      "Best of 5 runs for s2 resolution 16: 3.8282753999810666\n",
      "Best of 5 runs for s2 resolution 17: 3.822458199923858\n",
      "Best of 5 runs for s2 resolution 18: 3.837762299925089\n",
      "Best of 5 runs for s2 resolution 19: 3.8184770999941975\n",
      "Best of 5 runs for s2 resolution 20: 3.799398399889469\n",
      "Best of 5 runs for s2 resolution 21: 3.7453445000573993\n",
      "Best of 5 runs for s2 resolution 22: 3.7463230998255312\n",
      "Best of 5 runs for s2 resolution 23: 3.8409689001273364\n",
      "Best of 5 runs for s2 resolution 24: 3.8174470998346806\n",
      "Best of 5 runs for s2 resolution 25: 3.75206289999187\n",
      "Best of 5 runs for s2 resolution 26: 3.736361199989915\n",
      "Best of 5 runs for s2 resolution 27: 3.697088200133294\n",
      "Best of 5 runs for s2 resolution 28: 3.7399454000405967\n",
      "Best of 5 runs for s2 resolution 29: 3.7626194001641124\n",
      "Best of 5 runs for s2 resolution 30: 3.7314915999304503\n"
     ]
    }
   ],
   "source": [
    "s2_resolution = s2_resolution_min\n",
    "while s2_resolution <= s2_resolution_max:\n",
    "    print(\"Best of 5 runs for s2 resolution %d:\" % s2_resolution, min(timeit_repeat(\n",
    "        \"group_by_s2(sampled_trips)\",\n",
    "        setup=\"from __main__ import group_by_s2, sampled_trips, s2_resolution\",\n",
    "        repeat=5, number=1\n",
    "    )))\n",
    "    s2_resolution += 1"
   ]
  }
 ],
 "metadata": {
  "kernelspec": {
   "display_name": "Python 3",
   "language": "python",
   "name": "python3"
  },
  "language_info": {
   "codemirror_mode": {
    "name": "ipython",
    "version": 3
   },
   "file_extension": ".py",
   "mimetype": "text/x-python",
   "name": "python",
   "nbconvert_exporter": "python",
   "pygments_lexer": "ipython3",
   "version": "3.11.5"
  }
 },
 "nbformat": 4,
 "nbformat_minor": 2
}
