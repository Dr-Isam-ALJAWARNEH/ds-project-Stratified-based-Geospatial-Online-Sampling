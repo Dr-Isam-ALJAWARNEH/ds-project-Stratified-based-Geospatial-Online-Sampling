{
 "cells": [
  {
   "cell_type": "code",
   "execution_count": 1,
   "metadata": {},
   "outputs": [],
   "source": [
    "try:\n",
    "    from google.colab import drive\n",
    "except ModuleNotFoundError:\n",
    "    IN_COLAB = False\n",
    "else:\n",
    "    drive.mount('/content/drive')\n",
    "    IN_COLAB = True"
   ]
  },
  {
   "cell_type": "code",
   "execution_count": 2,
   "metadata": {},
   "outputs": [],
   "source": [
    "if IN_COLAB:\n",
    "    TRIPS_PATH = \"/content/drive/MyDrive/Project/\"\n",
    "else:\n",
    "    TRIPS_PATH = \"../data/\"\n",
    "TRIPS_PATH += \"NYC_Pilot2_PM_Part1.csv\"\n",
    "\n",
    "if IN_COLAB:\n",
    "    POLYGON_PATH = \"/content/drive/MyDrive/Project/\"\n",
    "else:\n",
    "    POLYGON_PATH = \"../data/\"\n",
    "POLYGON_PATH += \"nyc_polygon.geojson\"\n",
    "\n",
    "if IN_COLAB:\n",
    "    REF_PATH = \"/content/drive/MyDrive/Project/\"\n",
    "else:\n",
    "    REF_PATH = \"../data/\"\n",
    "REF_PATH += \"Average pm25 per neighborhood BASELINE.csv\""
   ]
  },
  {
   "cell_type": "code",
   "execution_count": 3,
   "metadata": {},
   "outputs": [],
   "source": [
    "TRIPS_PATH = 'https://raw.githubusercontent.com/IsamAljawarneh/datasets/1c2a6af7dea7aa93105ac1d1d0118d07bd681d8a/data/NYC_Pilot2_PM_Part1.csv'\n",
    "POLYGON_PATH = 'https://raw.githubusercontent.com/IsamAljawarneh/datasets/1c2a6af7dea7aa93105ac1d1d0118d07bd681d8a/data/nyc_polygon.geojson'"
   ]
  },
  {
   "cell_type": "code",
   "execution_count": 4,
   "metadata": {},
   "outputs": [],
   "source": [
    "import pandas as pd\n",
    "import folium\n",
    "import geopandas as gpd\n",
    "from datetime import datetime\n",
    "import numpy as np\n",
    "from shapely.geometry import Polygon\n",
    "import math\n",
    "import matplotlib.pyplot as plt\n",
    "from shapely import wkt\n",
    "\n",
    "import h3"
   ]
  },
  {
   "cell_type": "code",
   "execution_count": 5,
   "metadata": {},
   "outputs": [],
   "source": [
    "h3_resolution = 9"
   ]
  },
  {
   "cell_type": "code",
   "execution_count": 6,
   "metadata": {},
   "outputs": [],
   "source": [
    "trips = pd.read_csv(TRIPS_PATH)\n",
    "# Filter trips with corresponding neighborhoods in NYC\n",
    "trips = gpd.sjoin(\n",
    "    gpd.GeoDataFrame(trips, geometry=gpd.points_from_xy(trips.longitude, trips.latitude), crs='epsg:4326'),\n",
    "    gpd.read_file(POLYGON_PATH)\n",
    ")[list(trips.columns) + [\"neighborhood\"]]"
   ]
  },
  {
   "cell_type": "code",
   "execution_count": 7,
   "metadata": {},
   "outputs": [],
   "source": [
    "trips['h3'] = trips.apply(lambda x: h3.geo_to_h3(x.latitude, x.longitude, resolution=h3_resolution), axis = 1)"
   ]
  },
  {
   "cell_type": "code",
   "execution_count": 8,
   "metadata": {},
   "outputs": [
    {
     "name": "stdout",
     "output_type": "stream",
     "text": [
      "48\n",
      "48\n"
     ]
    }
   ],
   "source": [
    "reference_value = pd.read_csv(REF_PATH)\n",
    "reference_value['geometry'] = reference_value['geometry'].apply(wkt.loads)\n",
    "reference_value = gpd.GeoDataFrame(reference_value, crs='epsg:4326')\n",
    "print(reference_value['neighborhood'].nunique())\n",
    "print(len(reference_value['neighborhood']))"
   ]
  },
  {
   "cell_type": "code",
   "execution_count": 9,
   "metadata": {},
   "outputs": [],
   "source": [
    "def calculate_rmse(predicted_values, actual_values):\n",
    "    # Calculate squared differences\n",
    "    squared_diff = (predicted_values - actual_values) ** 2\n",
    "    \n",
    "    # Calculate mean squared differences\n",
    "    mean_squared_diff = np.mean(squared_diff)\n",
    "    \n",
    "    # Calculate RMSE\n",
    "    rmse = np.sqrt(mean_squared_diff)\n",
    "    \n",
    "    return rmse\n"
   ]
  },
  {
   "cell_type": "code",
   "execution_count": 10,
   "metadata": {},
   "outputs": [],
   "source": [
    "def get_rmse_h3(baseline, encoded):\n",
    "    error = []\n",
    "    for sampling_frequency in np.arange(0.1,1.1,0.1):\n",
    "        sampled_trips = encoded.groupby('h3').apply(lambda x: x.sample(frac = sampling_frequency)).reset_index(drop=True) #Stratified Sampling\n",
    "        df_enc_pm25 = (sampled_trips\n",
    "                          .groupby('h3')\n",
    "                          .pm25\n",
    "                          .agg(list)\n",
    "                          .to_frame(\"pm25_list\")\n",
    "                          .reset_index())# Make a list of pm25 values for each h3 cell\n",
    "\n",
    "        df_enc_pm25['average_pm25_value'] = df_enc_pm25['pm25_list'].apply(lambda x:sum(x)/len(x)) #Find the average pm25 value for each h3 cell\n",
    "        df_enc_pm25.drop('pm25_list', axis = 1, inplace=True)\n",
    "        sampled_trips_with_neighborhood_pm25 = pd.merge(sampled_trips, baseline, on='neighborhood', how='inner')\n",
    "        sampled_trips_with_enc_geometry_pm25 = pd.merge(sampled_trips, df_enc_pm25, on='h3', how='inner')\n",
    "        baseline_pm25 = sampled_trips_with_neighborhood_pm25[\"average_pm25_value\"].values\n",
    "        sampled_pm25  = sampled_trips_with_enc_geometry_pm25[\"average_pm25_value\"].values\n",
    "        rmse = calculate_rmse(sampled_pm25, baseline_pm25)\n",
    "        error.append(rmse) #Append to Error list\n",
    "    return error"
   ]
  },
  {
   "cell_type": "code",
   "execution_count": 11,
   "metadata": {},
   "outputs": [],
   "source": [
    "RMSE_H3 = get_rmse_h3(reference_value,trips)"
   ]
  },
  {
   "cell_type": "code",
   "execution_count": 12,
   "metadata": {},
   "outputs": [
    {
     "data": {
      "text/plain": [
       "[0.6949503935428066,\n",
       " 0.6948096422956682,\n",
       " 0.6821648017319926,\n",
       " 0.6969738042041382,\n",
       " 0.6929319849591193,\n",
       " 0.6821891205762771,\n",
       " 0.6801765999515521,\n",
       " 0.681393943487384,\n",
       " 0.6828197497258128,\n",
       " 0.6816819540390403]"
      ]
     },
     "execution_count": 12,
     "metadata": {},
     "output_type": "execute_result"
    }
   ],
   "source": [
    "RMSE_H3"
   ]
  },
  {
   "cell_type": "code",
   "execution_count": 13,
   "metadata": {},
   "outputs": [
    {
     "data": {
      "text/plain": [
       "<Figure size 640x480 with 0 Axes>"
      ]
     },
     "metadata": {},
     "output_type": "display_data"
    },
    {
     "data": {
      "image/png": "[encoded data removed]",
      "text/plain": [
       "<Figure size 640x480 with 1 Axes>"
      ]
     },
     "metadata": {},
     "output_type": "display_data"
    }
   ],
   "source": [
    "H3_Performance = pd.DataFrame({'Sample Size':[0.1,0.2,0.3,0.4,0.5,0.6,0.7,0.8,0.9,1.0],\n",
    "                               'RMSE': RMSE_H3})\n",
    "plt.figure()\n",
    "ax = H3_Performance.plot(kind='bar', x='Sample Size', y= 'RMSE')\n",
    "ax.bar_label(ax.containers[0], color = 'black')\n",
    "plt.show()"
   ]
  }
 ],
 "metadata": {
  "kernelspec": {
   "display_name": "Python 3",
   "language": "python",
   "name": "python3"
  },
  "language_info": {
   "codemirror_mode": {
    "name": "ipython",
    "version": 3
   },
   "file_extension": ".py",
   "mimetype": "text/x-python",
   "name": "python",
   "nbconvert_exporter": "python",
   "pygments_lexer": "ipython3",
   "version": "3.9.13"
  }
 },
 "nbformat": 4,
 "nbformat_minor": 2
}
