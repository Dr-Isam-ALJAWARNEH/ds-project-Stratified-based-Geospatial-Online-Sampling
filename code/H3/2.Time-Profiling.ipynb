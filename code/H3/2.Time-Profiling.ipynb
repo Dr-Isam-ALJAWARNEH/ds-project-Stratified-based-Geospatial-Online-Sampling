{
 "cells": [
  {
   "cell_type": "code",
   "execution_count": 2,
   "metadata": {},
   "outputs": [],
   "source": [
    "import pandas as pd\n",
    "import h3\n",
    "from timeit import repeat as timeit_repeat\n",
    "from numpy import arange as np_arange"
   ]
  },
  {
   "cell_type": "markdown",
   "metadata": {},
   "source": [
    "# Fixed Resolution and Variable Sample Size"
   ]
  },
  {
   "cell_type": "code",
   "execution_count": 2,
   "metadata": {},
   "outputs": [],
   "source": [
    "h3_resolution = 8"
   ]
  },
  {
   "cell_type": "code",
   "execution_count": 3,
   "metadata": {},
   "outputs": [],
   "source": [
    "TRIPS_PATH = 'https://raw.githubusercontent.com/IsamAljawarneh/datasets/1c2a6af7dea7aa93105ac1d1d0118d07bd681d8a/data/NYC_Pilot2_PM_Part1.csv'"
   ]
  },
  {
   "cell_type": "code",
   "execution_count": 4,
   "metadata": {},
   "outputs": [],
   "source": [
    "trips = pd.read_csv(TRIPS_PATH)\n",
    "trips = trips[\n",
    "    (trips['latitude']  != 0) &\n",
    "    (trips['longitude'] != 0)\n",
    "]"
   ]
  },
  {
   "cell_type": "code",
   "execution_count": 5,
   "metadata": {},
   "outputs": [],
   "source": [
    "def group_by_h3(df):\n",
    "    df['h3'] = df.apply(lambda x: h3.geo_to_h3(x.latitude, x.longitude, resolution=h3_resolution), axis=1)\n",
    "    return df.groupby('h3')"
   ]
  },
  {
   "cell_type": "code",
   "execution_count": 6,
   "metadata": {},
   "outputs": [
    {
     "name": "stdout",
     "output_type": "stream",
     "text": [
      "Best of 5 runs for sampling fraction 0.1: 0.1599410999999975\n",
      "Best of 5 runs for sampling fraction 0.2: 0.32364209999999716\n",
      "Best of 5 runs for sampling fraction 0.3: 0.4809246999999992\n",
      "Best of 5 runs for sampling fraction 0.4: 0.6434975999999999\n",
      "Best of 5 runs for sampling fraction 0.5: 0.813217599999998\n",
      "Best of 5 runs for sampling fraction 0.6: 0.9770040000000009\n",
      "Best of 5 runs for sampling fraction 0.7: 1.1390791999999976\n",
      "Best of 5 runs for sampling fraction 0.8: 1.3212085999999985\n",
      "Best of 5 runs for sampling fraction 0.9: 1.4777729999999991\n",
      "Best of 5 runs for sampling fraction 1.0: 1.6231030999999945\n"
     ]
    }
   ],
   "source": [
    "for sampling_fraction in np_arange(0.1, 1.1, 0.1):\n",
    "    sampled_trips = trips.sample(frac=sampling_fraction)\n",
    "    print(\"Best of 5 runs for sampling fraction %.1f:\" % sampling_fraction, min(timeit_repeat(\n",
    "        \"group_by_h3(sampled_trips)\",\n",
    "        setup=\"from __main__ import group_by_h3, sampled_trips\",\n",
    "        repeat=5, number=1\n",
    "    )))"
   ]
  },
  {
   "cell_type": "markdown",
   "metadata": {},
   "source": [
    "# Fixed Sample Size and Variable Resolution"
   ]
  },
  {
   "cell_type": "code",
   "execution_count": 1,
   "metadata": {},
   "outputs": [],
   "source": [
    "h3_resolution_min = 0\n",
    "h3_resolution_max = 15"
   ]
  },
  {
   "cell_type": "code",
   "execution_count": 5,
   "metadata": {},
   "outputs": [],
   "source": [
    "TRIPS_PATH = 'https://raw.githubusercontent.com/IsamAljawarneh/datasets/1c2a6af7dea7aa93105ac1d1d0118d07bd681d8a/data/NYC_Pilot2_PM_Part1.csv'"
   ]
  },
  {
   "cell_type": "code",
   "execution_count": 6,
   "metadata": {},
   "outputs": [],
   "source": [
    "trips = pd.read_csv(TRIPS_PATH)\n",
    "trips = trips[\n",
    "    (trips['latitude']  != 0) &\n",
    "    (trips['longitude'] != 0)\n",
    "]"
   ]
  },
  {
   "cell_type": "code",
   "execution_count": 7,
   "metadata": {},
   "outputs": [],
   "source": [
    "def group_by_h3(df, h3_resolution):\n",
    "    df['h3'] = df.apply(lambda x: h3.geo_to_h3(x.latitude, x.longitude, resolution=h3_resolution), axis=1)\n",
    "    return df.groupby('h3')"
   ]
  },
  {
   "cell_type": "code",
   "execution_count": 8,
   "metadata": {},
   "outputs": [],
   "source": [
    "sampling_fraction = 0.6\n",
    "sampled_trips = trips.sample(frac=sampling_fraction)"
   ]
  },
  {
   "cell_type": "code",
   "execution_count": 9,
   "metadata": {},
   "outputs": [
    {
     "name": "stdout",
     "output_type": "stream",
     "text": [
      "Best of 5 runs for h3 resolution 0: 1.4642936999443918\n",
      "Best of 5 runs for h3 resolution 1: 1.3968135002069175\n",
      "Best of 5 runs for h3 resolution 2: 1.4393537999130785\n",
      "Best of 5 runs for h3 resolution 3: 1.4435300999321043\n",
      "Best of 5 runs for h3 resolution 4: 1.4559528999961913\n",
      "Best of 5 runs for h3 resolution 5: 1.4532270000781864\n",
      "Best of 5 runs for h3 resolution 6: 1.4520791999530047\n",
      "Best of 5 runs for h3 resolution 7: 1.4551937999203801\n",
      "Best of 5 runs for h3 resolution 8: 1.481142499949783\n",
      "Best of 5 runs for h3 resolution 9: 1.4600108000449836\n",
      "Best of 5 runs for h3 resolution 10: 1.500545599963516\n",
      "Best of 5 runs for h3 resolution 11: 1.511336199939251\n",
      "Best of 5 runs for h3 resolution 12: 1.4940585000440478\n",
      "Best of 5 runs for h3 resolution 13: 1.5129698000382632\n",
      "Best of 5 runs for h3 resolution 14: 1.5571924999821931\n",
      "Best of 5 runs for h3 resolution 15: 1.52674450003542\n"
     ]
    }
   ],
   "source": [
    "for h3_resolution in np_arange(h3_resolution_min, h3_resolution_max + 1):\n",
    "    print(\"Best of 5 runs for h3 resolution %d:\" % h3_resolution, min(timeit_repeat(\n",
    "        \"group_by_h3(sampled_trips, h3_resolution)\",\n",
    "        setup=\"from __main__ import group_by_h3, sampled_trips, h3_resolution\",\n",
    "        repeat=5, number=1\n",
    "    )))"
   ]
  }
 ],
 "metadata": {
  "kernelspec": {
   "display_name": "Python 3",
   "language": "python",
   "name": "python3"
  },
  "language_info": {
   "codemirror_mode": {
    "name": "ipython",
    "version": 3
   },
   "file_extension": ".py",
   "mimetype": "text/x-python",
   "name": "python",
   "nbconvert_exporter": "python",
   "pygments_lexer": "ipython3",
   "version": "3.11.5"
  }
 },
 "nbformat": 4,
 "nbformat_minor": 2
}
